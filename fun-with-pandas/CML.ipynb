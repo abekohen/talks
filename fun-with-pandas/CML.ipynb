{
 "cells": [
  {
   "cell_type": "code",
   "execution_count": 1,
   "metadata": {},
   "outputs": [
    {
     "data": {
      "text/plain": [
       "91"
      ]
     },
     "execution_count": 1,
     "metadata": {},
     "output_type": "execute_result"
    }
   ],
   "source": [
    "7 * 13  # SHIFT+ENTER"
   ]
  },
  {
   "cell_type": "code",
   "execution_count": 2,
   "metadata": {},
   "outputs": [
    {
     "data": {
      "text/plain": [
       "364"
      ]
     },
     "execution_count": 2,
     "metadata": {},
     "output_type": "execute_result"
    }
   ],
   "source": [
    "4 * Out[1]"
   ]
  },
  {
   "cell_type": "code",
   "execution_count": 3,
   "metadata": {},
   "outputs": [
    {
     "data": {
      "text/plain": [
       "'/home/miki/Projects/talks/fun-with-pandas'"
      ]
     },
     "execution_count": 3,
     "metadata": {},
     "output_type": "execute_result"
    }
   ],
   "source": [
    "%pwd"
   ]
  },
  {
   "cell_type": "code",
   "execution_count": 4,
   "metadata": {},
   "outputs": [
    {
     "name": "stdout",
     "output_type": "stream",
     "text": [
      "cart.csv   Makefile\tREADME.html  slides\t taxi.csv.bz2  template.erb\n",
      "CML.ipynb  playbook.md\tREADME.md    stocks.csv  taxi.py       weather.db\n"
     ]
    }
   ],
   "source": [
    "!ls"
   ]
  },
  {
   "cell_type": "code",
   "execution_count": 5,
   "metadata": {},
   "outputs": [
    {
     "name": "stdout",
     "output_type": "stream",
     "text": [
      "We have f21 files in /var/log\n"
     ]
    }
   ],
   "source": [
    "log_dir = '/var/log'\n",
    "files = !ls $log_dir\n",
    "print(f'We have f{len(files)} files in {log_dir}')"
   ]
  },
  {
   "cell_type": "code",
   "execution_count": 6,
   "metadata": {},
   "outputs": [],
   "source": [
    "import os"
   ]
  },
  {
   "cell_type": "code",
   "execution_count": 7,
   "metadata": {},
   "outputs": [
    {
     "data": {
      "text/plain": [
       "\u001b[0;31mSignature:\u001b[0m \u001b[0mos\u001b[0m\u001b[0;34m.\u001b[0m\u001b[0mlistdir\u001b[0m\u001b[0;34m(\u001b[0m\u001b[0mpath\u001b[0m\u001b[0;34m=\u001b[0m\u001b[0;32mNone\u001b[0m\u001b[0;34m)\u001b[0m\u001b[0;34m\u001b[0m\u001b[0;34m\u001b[0m\u001b[0m\n",
       "\u001b[0;31mDocstring:\u001b[0m\n",
       "Return a list containing the names of the files in the directory.\n",
       "\n",
       "path can be specified as either str, bytes, or a path-like object.  If path is bytes,\n",
       "  the filenames returned will also be bytes; in all other circumstances\n",
       "  the filenames returned will be str.\n",
       "If path is None, uses the path='.'.\n",
       "On some platforms, path may also be specified as an open file descriptor;\\\n",
       "  the file descriptor must refer to a directory.\n",
       "  If this functionality is unavailable, using it raises NotImplementedError.\n",
       "\n",
       "The list is in arbitrary order.  It does not include the special\n",
       "entries '.' and '..' even if they are present in the directory.\n",
       "\u001b[0;31mType:\u001b[0m      builtin_function_or_method\n"
      ]
     },
     "metadata": {},
     "output_type": "display_data"
    }
   ],
   "source": [
    "os.listdir?"
   ]
  },
  {
   "cell_type": "markdown",
   "metadata": {},
   "source": [
    "# Some Title\n",
    "\n",
    "* list\n",
    "* of \n",
    "* items\n",
    "\n",
    "[Search here](http://google.com)\n",
    "\n",
    "Euler said $e^{i\\pi}+1=0$"
   ]
  },
  {
   "cell_type": "code",
   "execution_count": 8,
   "metadata": {},
   "outputs": [],
   "source": [
    "import pandas as pd"
   ]
  },
  {
   "cell_type": "code",
   "execution_count": 9,
   "metadata": {},
   "outputs": [],
   "source": [
    "df = pd.read_csv('stocks.csv')"
   ]
  },
  {
   "cell_type": "code",
   "execution_count": 10,
   "metadata": {},
   "outputs": [
    {
     "data": {
      "text/html": [
       "<div>\n",
       "<style scoped>\n",
       "    .dataframe tbody tr th:only-of-type {\n",
       "        vertical-align: middle;\n",
       "    }\n",
       "\n",
       "    .dataframe tbody tr th {\n",
       "        vertical-align: top;\n",
       "    }\n",
       "\n",
       "    .dataframe thead th {\n",
       "        text-align: right;\n",
       "    }\n",
       "</style>\n",
       "<table border=\"1\" class=\"dataframe\">\n",
       "  <thead>\n",
       "    <tr style=\"text-align: right;\">\n",
       "      <th></th>\n",
       "      <th>Date</th>\n",
       "      <th>Symbol</th>\n",
       "      <th>Volume</th>\n",
       "      <th>Price</th>\n",
       "    </tr>\n",
       "  </thead>\n",
       "  <tbody>\n",
       "    <tr>\n",
       "      <th>0</th>\n",
       "      <td>2014-02-06</td>\n",
       "      <td>AAPL</td>\n",
       "      <td>42</td>\n",
       "      <td>72.544289</td>\n",
       "    </tr>\n",
       "    <tr>\n",
       "      <th>1</th>\n",
       "      <td>2014-12-09</td>\n",
       "      <td>AAPL</td>\n",
       "      <td>95</td>\n",
       "      <td>109.349998</td>\n",
       "    </tr>\n",
       "    <tr>\n",
       "      <th>2</th>\n",
       "      <td>2015-07-28</td>\n",
       "      <td>INTC</td>\n",
       "      <td>30</td>\n",
       "      <td>28.440001</td>\n",
       "    </tr>\n",
       "    <tr>\n",
       "      <th>3</th>\n",
       "      <td>2015-09-09</td>\n",
       "      <td>AAPL</td>\n",
       "      <td>76</td>\n",
       "      <td>109.769997</td>\n",
       "    </tr>\n",
       "    <tr>\n",
       "      <th>4</th>\n",
       "      <td>2015-10-05</td>\n",
       "      <td>AAPL</td>\n",
       "      <td>21</td>\n",
       "      <td>109.070000</td>\n",
       "    </tr>\n",
       "    <tr>\n",
       "      <th>5</th>\n",
       "      <td>2016-01-12</td>\n",
       "      <td>GOOG</td>\n",
       "      <td>43</td>\n",
       "      <td>717.317017</td>\n",
       "    </tr>\n",
       "    <tr>\n",
       "      <th>6</th>\n",
       "      <td>2016-03-17</td>\n",
       "      <td>GOOG</td>\n",
       "      <td>37</td>\n",
       "      <td>736.000000</td>\n",
       "    </tr>\n",
       "    <tr>\n",
       "      <th>7</th>\n",
       "      <td>2016-08-22</td>\n",
       "      <td>INTC</td>\n",
       "      <td>64</td>\n",
       "      <td>35.119999</td>\n",
       "    </tr>\n",
       "    <tr>\n",
       "      <th>8</th>\n",
       "      <td>2017-05-01</td>\n",
       "      <td>GOOG</td>\n",
       "      <td>68</td>\n",
       "      <td>901.450012</td>\n",
       "    </tr>\n",
       "    <tr>\n",
       "      <th>9</th>\n",
       "      <td>2017-08-23</td>\n",
       "      <td>AMZN</td>\n",
       "      <td>34</td>\n",
       "      <td>954.200012</td>\n",
       "    </tr>\n",
       "    <tr>\n",
       "      <th>10</th>\n",
       "      <td>2017-11-03</td>\n",
       "      <td>AAPL</td>\n",
       "      <td>21</td>\n",
       "      <td>171.119995</td>\n",
       "    </tr>\n",
       "    <tr>\n",
       "      <th>11</th>\n",
       "      <td>2018-03-01</td>\n",
       "      <td>AMZN</td>\n",
       "      <td>10</td>\n",
       "      <td>1465.000000</td>\n",
       "    </tr>\n",
       "    <tr>\n",
       "      <th>12</th>\n",
       "      <td>2018-10-23</td>\n",
       "      <td>QCOM</td>\n",
       "      <td>53</td>\n",
       "      <td>63.570000</td>\n",
       "    </tr>\n",
       "  </tbody>\n",
       "</table>\n",
       "</div>"
      ],
      "text/plain": [
       "          Date Symbol  Volume        Price\n",
       "0   2014-02-06   AAPL      42    72.544289\n",
       "1   2014-12-09   AAPL      95   109.349998\n",
       "2   2015-07-28   INTC      30    28.440001\n",
       "3   2015-09-09   AAPL      76   109.769997\n",
       "4   2015-10-05   AAPL      21   109.070000\n",
       "5   2016-01-12   GOOG      43   717.317017\n",
       "6   2016-03-17   GOOG      37   736.000000\n",
       "7   2016-08-22   INTC      64    35.119999\n",
       "8   2017-05-01   GOOG      68   901.450012\n",
       "9   2017-08-23   AMZN      34   954.200012\n",
       "10  2017-11-03   AAPL      21   171.119995\n",
       "11  2018-03-01   AMZN      10  1465.000000\n",
       "12  2018-10-23   QCOM      53    63.570000"
      ]
     },
     "execution_count": 10,
     "metadata": {},
     "output_type": "execute_result"
    }
   ],
   "source": [
    "df"
   ]
  },
  {
   "cell_type": "code",
   "execution_count": 11,
   "metadata": {},
   "outputs": [],
   "source": [
    "# GIGO"
   ]
  },
  {
   "cell_type": "code",
   "execution_count": 12,
   "metadata": {},
   "outputs": [
    {
     "data": {
      "text/plain": [
       "394"
      ]
     },
     "execution_count": 12,
     "metadata": {},
     "output_type": "execute_result"
    }
   ],
   "source": [
    "from os import path\n",
    "csv_file = 'stocks.csv'\n",
    "path.getsize(csv_file)"
   ]
  },
  {
   "cell_type": "code",
   "execution_count": 13,
   "metadata": {},
   "outputs": [
    {
     "data": {
      "text/plain": [
       "14"
      ]
     },
     "execution_count": 13,
     "metadata": {},
     "output_type": "execute_result"
    }
   ],
   "source": [
    "num_lines = 0\n",
    "for line in open(csv_file):\n",
    "    num_lines += 1\n",
    "num_lines"
   ]
  },
  {
   "cell_type": "code",
   "execution_count": 14,
   "metadata": {},
   "outputs": [
    {
     "name": "stdout",
     "output_type": "stream",
     "text": [
      "Date,Symbol,Volume,Price\n",
      "\n",
      "2014-02-06,AAPL,42,72.544289\n",
      "\n",
      "2014-12-09,AAPL,95,109.349998\n",
      "\n",
      "2015-07-28,INTC,30,28.440001\n",
      "\n",
      "2015-09-09,AAPL,76,109.769997\n",
      "\n"
     ]
    }
   ],
   "source": [
    "lnum = 0\n",
    "with open(csv_file) as fp:\n",
    "    while lnum < 5:\n",
    "        print(fp.readline())\n",
    "        lnum += 1"
   ]
  },
  {
   "cell_type": "code",
   "execution_count": 15,
   "metadata": {},
   "outputs": [
    {
     "name": "stdout",
     "output_type": "stream",
     "text": [
      "-rw-r--r-- 1 miki miki 394 Jan 12 16:34 stocks.csv\n"
     ]
    }
   ],
   "source": [
    "! ls -lh $csv_file"
   ]
  },
  {
   "cell_type": "code",
   "execution_count": 16,
   "metadata": {},
   "outputs": [
    {
     "name": "stdout",
     "output_type": "stream",
     "text": [
      "14 stocks.csv\n"
     ]
    }
   ],
   "source": [
    "! wc -l $csv_file"
   ]
  },
  {
   "cell_type": "code",
   "execution_count": 17,
   "metadata": {},
   "outputs": [
    {
     "name": "stdout",
     "output_type": "stream",
     "text": [
      "Date,Symbol,Volume,Price\n",
      "2014-02-06,AAPL,42,72.544289\n",
      "2014-12-09,AAPL,95,109.349998\n",
      "2015-07-28,INTC,30,28.440001\n",
      "2015-09-09,AAPL,76,109.769997\n"
     ]
    }
   ],
   "source": [
    "! head -5 $csv_file"
   ]
  },
  {
   "cell_type": "code",
   "execution_count": 18,
   "metadata": {},
   "outputs": [],
   "source": [
    "df = pd.read_csv(csv_file)"
   ]
  },
  {
   "cell_type": "code",
   "execution_count": 19,
   "metadata": {},
   "outputs": [
    {
     "data": {
      "text/plain": [
       "(13, 4)"
      ]
     },
     "execution_count": 19,
     "metadata": {},
     "output_type": "execute_result"
    }
   ],
   "source": [
    "df.shape"
   ]
  },
  {
   "cell_type": "code",
   "execution_count": 20,
   "metadata": {},
   "outputs": [
    {
     "data": {
      "text/plain": [
       "Index(['Date', 'Symbol', 'Volume', 'Price'], dtype='object')"
      ]
     },
     "execution_count": 20,
     "metadata": {},
     "output_type": "execute_result"
    }
   ],
   "source": [
    "df.columns"
   ]
  },
  {
   "cell_type": "code",
   "execution_count": 21,
   "metadata": {},
   "outputs": [
    {
     "data": {
      "text/plain": [
       "Date       object\n",
       "Symbol     object\n",
       "Volume      int64\n",
       "Price     float64\n",
       "dtype: object"
      ]
     },
     "execution_count": 21,
     "metadata": {},
     "output_type": "execute_result"
    }
   ],
   "source": [
    "df.dtypes"
   ]
  },
  {
   "cell_type": "code",
   "execution_count": 22,
   "metadata": {},
   "outputs": [
    {
     "data": {
      "text/plain": [
       "Date      datetime64[ns]\n",
       "Symbol            object\n",
       "Volume             int64\n",
       "Price            float64\n",
       "dtype: object"
      ]
     },
     "execution_count": 22,
     "metadata": {},
     "output_type": "execute_result"
    }
   ],
   "source": [
    "df = pd.read_csv(csv_file, parse_dates=['Date'])\n",
    "df.dtypes"
   ]
  },
  {
   "cell_type": "code",
   "execution_count": 24,
   "metadata": {},
   "outputs": [
    {
     "data": {
      "text/plain": [
       "544"
      ]
     },
     "execution_count": 24,
     "metadata": {},
     "output_type": "execute_result"
    }
   ],
   "source": [
    "df.memory_usage().sum()"
   ]
  },
  {
   "cell_type": "code",
   "execution_count": 25,
   "metadata": {},
   "outputs": [
    {
     "data": {
      "text/plain": [
       "0     AAPL\n",
       "1     AAPL\n",
       "2     INTC\n",
       "3     AAPL\n",
       "4     AAPL\n",
       "5     GOOG\n",
       "6     GOOG\n",
       "7     INTC\n",
       "8     GOOG\n",
       "9     AMZN\n",
       "10    AAPL\n",
       "11    AMZN\n",
       "12    QCOM\n",
       "Name: Symbol, dtype: object"
      ]
     },
     "execution_count": 25,
     "metadata": {},
     "output_type": "execute_result"
    }
   ],
   "source": [
    "df['Symbol']"
   ]
  },
  {
   "cell_type": "code",
   "execution_count": 26,
   "metadata": {},
   "outputs": [
    {
     "data": {
      "text/plain": [
       "0      True\n",
       "1      True\n",
       "2     False\n",
       "3      True\n",
       "4      True\n",
       "5     False\n",
       "6     False\n",
       "7     False\n",
       "8     False\n",
       "9     False\n",
       "10     True\n",
       "11    False\n",
       "12    False\n",
       "Name: Symbol, dtype: bool"
      ]
     },
     "execution_count": 26,
     "metadata": {},
     "output_type": "execute_result"
    }
   ],
   "source": [
    "df['Symbol'] == 'AAPL'"
   ]
  },
  {
   "cell_type": "code",
   "execution_count": 27,
   "metadata": {},
   "outputs": [
    {
     "data": {
      "text/html": [
       "<div>\n",
       "<style scoped>\n",
       "    .dataframe tbody tr th:only-of-type {\n",
       "        vertical-align: middle;\n",
       "    }\n",
       "\n",
       "    .dataframe tbody tr th {\n",
       "        vertical-align: top;\n",
       "    }\n",
       "\n",
       "    .dataframe thead th {\n",
       "        text-align: right;\n",
       "    }\n",
       "</style>\n",
       "<table border=\"1\" class=\"dataframe\">\n",
       "  <thead>\n",
       "    <tr style=\"text-align: right;\">\n",
       "      <th></th>\n",
       "      <th>Date</th>\n",
       "      <th>Symbol</th>\n",
       "      <th>Volume</th>\n",
       "      <th>Price</th>\n",
       "    </tr>\n",
       "  </thead>\n",
       "  <tbody>\n",
       "    <tr>\n",
       "      <th>0</th>\n",
       "      <td>2014-02-06</td>\n",
       "      <td>AAPL</td>\n",
       "      <td>42</td>\n",
       "      <td>72.544289</td>\n",
       "    </tr>\n",
       "    <tr>\n",
       "      <th>1</th>\n",
       "      <td>2014-12-09</td>\n",
       "      <td>AAPL</td>\n",
       "      <td>95</td>\n",
       "      <td>109.349998</td>\n",
       "    </tr>\n",
       "    <tr>\n",
       "      <th>3</th>\n",
       "      <td>2015-09-09</td>\n",
       "      <td>AAPL</td>\n",
       "      <td>76</td>\n",
       "      <td>109.769997</td>\n",
       "    </tr>\n",
       "    <tr>\n",
       "      <th>4</th>\n",
       "      <td>2015-10-05</td>\n",
       "      <td>AAPL</td>\n",
       "      <td>21</td>\n",
       "      <td>109.070000</td>\n",
       "    </tr>\n",
       "    <tr>\n",
       "      <th>10</th>\n",
       "      <td>2017-11-03</td>\n",
       "      <td>AAPL</td>\n",
       "      <td>21</td>\n",
       "      <td>171.119995</td>\n",
       "    </tr>\n",
       "  </tbody>\n",
       "</table>\n",
       "</div>"
      ],
      "text/plain": [
       "         Date Symbol  Volume       Price\n",
       "0  2014-02-06   AAPL      42   72.544289\n",
       "1  2014-12-09   AAPL      95  109.349998\n",
       "3  2015-09-09   AAPL      76  109.769997\n",
       "4  2015-10-05   AAPL      21  109.070000\n",
       "10 2017-11-03   AAPL      21  171.119995"
      ]
     },
     "execution_count": 27,
     "metadata": {},
     "output_type": "execute_result"
    }
   ],
   "source": [
    "mask = df['Symbol'] == 'AAPL'\n",
    "df[mask]  # boolean indexing"
   ]
  },
  {
   "cell_type": "code",
   "execution_count": 28,
   "metadata": {},
   "outputs": [
    {
     "data": {
      "text/html": [
       "<div>\n",
       "<style scoped>\n",
       "    .dataframe tbody tr th:only-of-type {\n",
       "        vertical-align: middle;\n",
       "    }\n",
       "\n",
       "    .dataframe tbody tr th {\n",
       "        vertical-align: top;\n",
       "    }\n",
       "\n",
       "    .dataframe thead th {\n",
       "        text-align: right;\n",
       "    }\n",
       "</style>\n",
       "<table border=\"1\" class=\"dataframe\">\n",
       "  <thead>\n",
       "    <tr style=\"text-align: right;\">\n",
       "      <th></th>\n",
       "      <th>Date</th>\n",
       "      <th>Symbol</th>\n",
       "      <th>Volume</th>\n",
       "      <th>Price</th>\n",
       "    </tr>\n",
       "  </thead>\n",
       "  <tbody>\n",
       "    <tr>\n",
       "      <th>0</th>\n",
       "      <td>2014-02-06</td>\n",
       "      <td>AAPL</td>\n",
       "      <td>42</td>\n",
       "      <td>72.544289</td>\n",
       "    </tr>\n",
       "    <tr>\n",
       "      <th>1</th>\n",
       "      <td>2014-12-09</td>\n",
       "      <td>AAPL</td>\n",
       "      <td>95</td>\n",
       "      <td>109.349998</td>\n",
       "    </tr>\n",
       "    <tr>\n",
       "      <th>3</th>\n",
       "      <td>2015-09-09</td>\n",
       "      <td>AAPL</td>\n",
       "      <td>76</td>\n",
       "      <td>109.769997</td>\n",
       "    </tr>\n",
       "    <tr>\n",
       "      <th>4</th>\n",
       "      <td>2015-10-05</td>\n",
       "      <td>AAPL</td>\n",
       "      <td>21</td>\n",
       "      <td>109.070000</td>\n",
       "    </tr>\n",
       "    <tr>\n",
       "      <th>10</th>\n",
       "      <td>2017-11-03</td>\n",
       "      <td>AAPL</td>\n",
       "      <td>21</td>\n",
       "      <td>171.119995</td>\n",
       "    </tr>\n",
       "  </tbody>\n",
       "</table>\n",
       "</div>"
      ],
      "text/plain": [
       "         Date Symbol  Volume       Price\n",
       "0  2014-02-06   AAPL      42   72.544289\n",
       "1  2014-12-09   AAPL      95  109.349998\n",
       "3  2015-09-09   AAPL      76  109.769997\n",
       "4  2015-10-05   AAPL      21  109.070000\n",
       "10 2017-11-03   AAPL      21  171.119995"
      ]
     },
     "execution_count": 28,
     "metadata": {},
     "output_type": "execute_result"
    }
   ],
   "source": [
    "df[df['Symbol'] == 'AAPL']"
   ]
  },
  {
   "cell_type": "code",
   "execution_count": 29,
   "metadata": {},
   "outputs": [
    {
     "data": {
      "text/html": [
       "<div>\n",
       "<style scoped>\n",
       "    .dataframe tbody tr th:only-of-type {\n",
       "        vertical-align: middle;\n",
       "    }\n",
       "\n",
       "    .dataframe tbody tr th {\n",
       "        vertical-align: top;\n",
       "    }\n",
       "\n",
       "    .dataframe thead th {\n",
       "        text-align: right;\n",
       "    }\n",
       "</style>\n",
       "<table border=\"1\" class=\"dataframe\">\n",
       "  <thead>\n",
       "    <tr style=\"text-align: right;\">\n",
       "      <th></th>\n",
       "      <th>Date</th>\n",
       "      <th>Symbol</th>\n",
       "      <th>Volume</th>\n",
       "      <th>Price</th>\n",
       "    </tr>\n",
       "  </thead>\n",
       "  <tbody>\n",
       "    <tr>\n",
       "      <th>0</th>\n",
       "      <td>2014-02-06</td>\n",
       "      <td>AAPL</td>\n",
       "      <td>42</td>\n",
       "      <td>72.544289</td>\n",
       "    </tr>\n",
       "    <tr>\n",
       "      <th>1</th>\n",
       "      <td>2014-12-09</td>\n",
       "      <td>AAPL</td>\n",
       "      <td>95</td>\n",
       "      <td>109.349998</td>\n",
       "    </tr>\n",
       "    <tr>\n",
       "      <th>3</th>\n",
       "      <td>2015-09-09</td>\n",
       "      <td>AAPL</td>\n",
       "      <td>76</td>\n",
       "      <td>109.769997</td>\n",
       "    </tr>\n",
       "  </tbody>\n",
       "</table>\n",
       "</div>"
      ],
      "text/plain": [
       "        Date Symbol  Volume       Price\n",
       "0 2014-02-06   AAPL      42   72.544289\n",
       "1 2014-12-09   AAPL      95  109.349998\n",
       "3 2015-09-09   AAPL      76  109.769997"
      ]
     },
     "execution_count": 29,
     "metadata": {},
     "output_type": "execute_result"
    }
   ],
   "source": [
    "df[(df['Symbol'] == 'AAPL') & (df['Volume'] > 30)]"
   ]
  },
  {
   "cell_type": "code",
   "execution_count": 30,
   "metadata": {},
   "outputs": [],
   "source": [
    "# and -> &\n",
    "# or -> |\n",
    "# not -> ~"
   ]
  },
  {
   "cell_type": "code",
   "execution_count": 31,
   "metadata": {},
   "outputs": [
    {
     "data": {
      "text/html": [
       "<div>\n",
       "<style scoped>\n",
       "    .dataframe tbody tr th:only-of-type {\n",
       "        vertical-align: middle;\n",
       "    }\n",
       "\n",
       "    .dataframe tbody tr th {\n",
       "        vertical-align: top;\n",
       "    }\n",
       "\n",
       "    .dataframe thead th {\n",
       "        text-align: right;\n",
       "    }\n",
       "</style>\n",
       "<table border=\"1\" class=\"dataframe\">\n",
       "  <thead>\n",
       "    <tr style=\"text-align: right;\">\n",
       "      <th></th>\n",
       "      <th>Date</th>\n",
       "      <th>Symbol</th>\n",
       "      <th>Volume</th>\n",
       "      <th>Price</th>\n",
       "    </tr>\n",
       "  </thead>\n",
       "  <tbody>\n",
       "    <tr>\n",
       "      <th>2</th>\n",
       "      <td>2015-07-28</td>\n",
       "      <td>INTC</td>\n",
       "      <td>30</td>\n",
       "      <td>28.440001</td>\n",
       "    </tr>\n",
       "    <tr>\n",
       "      <th>5</th>\n",
       "      <td>2016-01-12</td>\n",
       "      <td>GOOG</td>\n",
       "      <td>43</td>\n",
       "      <td>717.317017</td>\n",
       "    </tr>\n",
       "    <tr>\n",
       "      <th>6</th>\n",
       "      <td>2016-03-17</td>\n",
       "      <td>GOOG</td>\n",
       "      <td>37</td>\n",
       "      <td>736.000000</td>\n",
       "    </tr>\n",
       "    <tr>\n",
       "      <th>7</th>\n",
       "      <td>2016-08-22</td>\n",
       "      <td>INTC</td>\n",
       "      <td>64</td>\n",
       "      <td>35.119999</td>\n",
       "    </tr>\n",
       "    <tr>\n",
       "      <th>8</th>\n",
       "      <td>2017-05-01</td>\n",
       "      <td>GOOG</td>\n",
       "      <td>68</td>\n",
       "      <td>901.450012</td>\n",
       "    </tr>\n",
       "    <tr>\n",
       "      <th>9</th>\n",
       "      <td>2017-08-23</td>\n",
       "      <td>AMZN</td>\n",
       "      <td>34</td>\n",
       "      <td>954.200012</td>\n",
       "    </tr>\n",
       "    <tr>\n",
       "      <th>11</th>\n",
       "      <td>2018-03-01</td>\n",
       "      <td>AMZN</td>\n",
       "      <td>10</td>\n",
       "      <td>1465.000000</td>\n",
       "    </tr>\n",
       "    <tr>\n",
       "      <th>12</th>\n",
       "      <td>2018-10-23</td>\n",
       "      <td>QCOM</td>\n",
       "      <td>53</td>\n",
       "      <td>63.570000</td>\n",
       "    </tr>\n",
       "  </tbody>\n",
       "</table>\n",
       "</div>"
      ],
      "text/plain": [
       "         Date Symbol  Volume        Price\n",
       "2  2015-07-28   INTC      30    28.440001\n",
       "5  2016-01-12   GOOG      43   717.317017\n",
       "6  2016-03-17   GOOG      37   736.000000\n",
       "7  2016-08-22   INTC      64    35.119999\n",
       "8  2017-05-01   GOOG      68   901.450012\n",
       "9  2017-08-23   AMZN      34   954.200012\n",
       "11 2018-03-01   AMZN      10  1465.000000\n",
       "12 2018-10-23   QCOM      53    63.570000"
      ]
     },
     "execution_count": 31,
     "metadata": {},
     "output_type": "execute_result"
    }
   ],
   "source": [
    "df[~mask]"
   ]
  },
  {
   "cell_type": "code",
   "execution_count": 32,
   "metadata": {},
   "outputs": [
    {
     "data": {
      "text/plain": [
       "0     42\n",
       "1     95\n",
       "3     76\n",
       "4     21\n",
       "10    21\n",
       "Name: Volume, dtype: int64"
      ]
     },
     "execution_count": 32,
     "metadata": {},
     "output_type": "execute_result"
    }
   ],
   "source": [
    "df[mask]['Volume']"
   ]
  },
  {
   "cell_type": "code",
   "execution_count": 33,
   "metadata": {},
   "outputs": [
    {
     "data": {
      "text/plain": [
       "0     42\n",
       "1     95\n",
       "3     76\n",
       "4     21\n",
       "10    21\n",
       "Name: Volume, dtype: int64"
      ]
     },
     "execution_count": 33,
     "metadata": {},
     "output_type": "execute_result"
    }
   ],
   "source": [
    "df['Volume'][mask]"
   ]
  },
  {
   "cell_type": "code",
   "execution_count": 35,
   "metadata": {},
   "outputs": [
    {
     "data": {
      "text/plain": [
       "Date      2015-09-09 00:00:00\n",
       "Symbol                   AAPL\n",
       "Volume                     76\n",
       "Price                  109.77\n",
       "Name: 3, dtype: object"
      ]
     },
     "execution_count": 35,
     "metadata": {},
     "output_type": "execute_result"
    }
   ],
   "source": [
    "df.loc[3]"
   ]
  },
  {
   "cell_type": "code",
   "execution_count": 36,
   "metadata": {},
   "outputs": [
    {
     "data": {
      "text/html": [
       "<div>\n",
       "<style scoped>\n",
       "    .dataframe tbody tr th:only-of-type {\n",
       "        vertical-align: middle;\n",
       "    }\n",
       "\n",
       "    .dataframe tbody tr th {\n",
       "        vertical-align: top;\n",
       "    }\n",
       "\n",
       "    .dataframe thead th {\n",
       "        text-align: right;\n",
       "    }\n",
       "</style>\n",
       "<table border=\"1\" class=\"dataframe\">\n",
       "  <thead>\n",
       "    <tr style=\"text-align: right;\">\n",
       "      <th></th>\n",
       "      <th>Date</th>\n",
       "      <th>Symbol</th>\n",
       "      <th>Volume</th>\n",
       "      <th>Price</th>\n",
       "    </tr>\n",
       "  </thead>\n",
       "  <tbody>\n",
       "    <tr>\n",
       "      <th>3</th>\n",
       "      <td>2015-09-09</td>\n",
       "      <td>AAPL</td>\n",
       "      <td>76</td>\n",
       "      <td>109.769997</td>\n",
       "    </tr>\n",
       "    <tr>\n",
       "      <th>4</th>\n",
       "      <td>2015-10-05</td>\n",
       "      <td>AAPL</td>\n",
       "      <td>21</td>\n",
       "      <td>109.070000</td>\n",
       "    </tr>\n",
       "    <tr>\n",
       "      <th>5</th>\n",
       "      <td>2016-01-12</td>\n",
       "      <td>GOOG</td>\n",
       "      <td>43</td>\n",
       "      <td>717.317017</td>\n",
       "    </tr>\n",
       "    <tr>\n",
       "      <th>6</th>\n",
       "      <td>2016-03-17</td>\n",
       "      <td>GOOG</td>\n",
       "      <td>37</td>\n",
       "      <td>736.000000</td>\n",
       "    </tr>\n",
       "    <tr>\n",
       "      <th>7</th>\n",
       "      <td>2016-08-22</td>\n",
       "      <td>INTC</td>\n",
       "      <td>64</td>\n",
       "      <td>35.119999</td>\n",
       "    </tr>\n",
       "  </tbody>\n",
       "</table>\n",
       "</div>"
      ],
      "text/plain": [
       "        Date Symbol  Volume       Price\n",
       "3 2015-09-09   AAPL      76  109.769997\n",
       "4 2015-10-05   AAPL      21  109.070000\n",
       "5 2016-01-12   GOOG      43  717.317017\n",
       "6 2016-03-17   GOOG      37  736.000000\n",
       "7 2016-08-22   INTC      64   35.119999"
      ]
     },
     "execution_count": 36,
     "metadata": {},
     "output_type": "execute_result"
    }
   ],
   "source": [
    "df.loc[3:7]"
   ]
  },
  {
   "cell_type": "code",
   "execution_count": 37,
   "metadata": {},
   "outputs": [
    {
     "data": {
      "text/html": [
       "<div>\n",
       "<style scoped>\n",
       "    .dataframe tbody tr th:only-of-type {\n",
       "        vertical-align: middle;\n",
       "    }\n",
       "\n",
       "    .dataframe tbody tr th {\n",
       "        vertical-align: top;\n",
       "    }\n",
       "\n",
       "    .dataframe thead th {\n",
       "        text-align: right;\n",
       "    }\n",
       "</style>\n",
       "<table border=\"1\" class=\"dataframe\">\n",
       "  <thead>\n",
       "    <tr style=\"text-align: right;\">\n",
       "      <th></th>\n",
       "      <th>Date</th>\n",
       "      <th>Symbol</th>\n",
       "      <th>Volume</th>\n",
       "      <th>Price</th>\n",
       "    </tr>\n",
       "  </thead>\n",
       "  <tbody>\n",
       "    <tr>\n",
       "      <th>0</th>\n",
       "      <td>2014-02-06</td>\n",
       "      <td>AAPL</td>\n",
       "      <td>42</td>\n",
       "      <td>72.544289</td>\n",
       "    </tr>\n",
       "    <tr>\n",
       "      <th>1</th>\n",
       "      <td>2014-12-09</td>\n",
       "      <td>AAPL</td>\n",
       "      <td>95</td>\n",
       "      <td>109.349998</td>\n",
       "    </tr>\n",
       "    <tr>\n",
       "      <th>3</th>\n",
       "      <td>2015-09-09</td>\n",
       "      <td>AAPL</td>\n",
       "      <td>76</td>\n",
       "      <td>109.769997</td>\n",
       "    </tr>\n",
       "  </tbody>\n",
       "</table>\n",
       "</div>"
      ],
      "text/plain": [
       "        Date Symbol  Volume       Price\n",
       "0 2014-02-06   AAPL      42   72.544289\n",
       "1 2014-12-09   AAPL      95  109.349998\n",
       "3 2015-09-09   AAPL      76  109.769997"
      ]
     },
     "execution_count": 37,
     "metadata": {},
     "output_type": "execute_result"
    }
   ],
   "source": [
    "df.query('Symbol == \"AAPL\" & Volume > 30')"
   ]
  },
  {
   "cell_type": "code",
   "execution_count": 38,
   "metadata": {},
   "outputs": [
    {
     "data": {
      "text/plain": [
       "0      3046.860138\n",
       "1     10388.249810\n",
       "2       853.200030\n",
       "3      8342.519772\n",
       "4      2290.470000\n",
       "5     30844.631731\n",
       "6     27232.000000\n",
       "7      2247.679936\n",
       "8     61298.600816\n",
       "9     32442.800408\n",
       "10     3593.519895\n",
       "11    14650.000000\n",
       "12     3369.210000\n",
       "dtype: float64"
      ]
     },
     "execution_count": 38,
     "metadata": {},
     "output_type": "execute_result"
    }
   ],
   "source": [
    "df['Volume'] * df['Price']"
   ]
  },
  {
   "cell_type": "code",
   "execution_count": 39,
   "metadata": {},
   "outputs": [
    {
     "data": {
      "text/html": [
       "<div>\n",
       "<style scoped>\n",
       "    .dataframe tbody tr th:only-of-type {\n",
       "        vertical-align: middle;\n",
       "    }\n",
       "\n",
       "    .dataframe tbody tr th {\n",
       "        vertical-align: top;\n",
       "    }\n",
       "\n",
       "    .dataframe thead th {\n",
       "        text-align: right;\n",
       "    }\n",
       "</style>\n",
       "<table border=\"1\" class=\"dataframe\">\n",
       "  <thead>\n",
       "    <tr style=\"text-align: right;\">\n",
       "      <th></th>\n",
       "      <th>Date</th>\n",
       "      <th>Symbol</th>\n",
       "      <th>Volume</th>\n",
       "      <th>Price</th>\n",
       "      <th>Cost</th>\n",
       "    </tr>\n",
       "  </thead>\n",
       "  <tbody>\n",
       "    <tr>\n",
       "      <th>0</th>\n",
       "      <td>2014-02-06</td>\n",
       "      <td>AAPL</td>\n",
       "      <td>42</td>\n",
       "      <td>72.544289</td>\n",
       "      <td>3046.860138</td>\n",
       "    </tr>\n",
       "    <tr>\n",
       "      <th>1</th>\n",
       "      <td>2014-12-09</td>\n",
       "      <td>AAPL</td>\n",
       "      <td>95</td>\n",
       "      <td>109.349998</td>\n",
       "      <td>10388.249810</td>\n",
       "    </tr>\n",
       "    <tr>\n",
       "      <th>2</th>\n",
       "      <td>2015-07-28</td>\n",
       "      <td>INTC</td>\n",
       "      <td>30</td>\n",
       "      <td>28.440001</td>\n",
       "      <td>853.200030</td>\n",
       "    </tr>\n",
       "    <tr>\n",
       "      <th>3</th>\n",
       "      <td>2015-09-09</td>\n",
       "      <td>AAPL</td>\n",
       "      <td>76</td>\n",
       "      <td>109.769997</td>\n",
       "      <td>8342.519772</td>\n",
       "    </tr>\n",
       "    <tr>\n",
       "      <th>4</th>\n",
       "      <td>2015-10-05</td>\n",
       "      <td>AAPL</td>\n",
       "      <td>21</td>\n",
       "      <td>109.070000</td>\n",
       "      <td>2290.470000</td>\n",
       "    </tr>\n",
       "    <tr>\n",
       "      <th>5</th>\n",
       "      <td>2016-01-12</td>\n",
       "      <td>GOOG</td>\n",
       "      <td>43</td>\n",
       "      <td>717.317017</td>\n",
       "      <td>30844.631731</td>\n",
       "    </tr>\n",
       "    <tr>\n",
       "      <th>6</th>\n",
       "      <td>2016-03-17</td>\n",
       "      <td>GOOG</td>\n",
       "      <td>37</td>\n",
       "      <td>736.000000</td>\n",
       "      <td>27232.000000</td>\n",
       "    </tr>\n",
       "    <tr>\n",
       "      <th>7</th>\n",
       "      <td>2016-08-22</td>\n",
       "      <td>INTC</td>\n",
       "      <td>64</td>\n",
       "      <td>35.119999</td>\n",
       "      <td>2247.679936</td>\n",
       "    </tr>\n",
       "    <tr>\n",
       "      <th>8</th>\n",
       "      <td>2017-05-01</td>\n",
       "      <td>GOOG</td>\n",
       "      <td>68</td>\n",
       "      <td>901.450012</td>\n",
       "      <td>61298.600816</td>\n",
       "    </tr>\n",
       "    <tr>\n",
       "      <th>9</th>\n",
       "      <td>2017-08-23</td>\n",
       "      <td>AMZN</td>\n",
       "      <td>34</td>\n",
       "      <td>954.200012</td>\n",
       "      <td>32442.800408</td>\n",
       "    </tr>\n",
       "    <tr>\n",
       "      <th>10</th>\n",
       "      <td>2017-11-03</td>\n",
       "      <td>AAPL</td>\n",
       "      <td>21</td>\n",
       "      <td>171.119995</td>\n",
       "      <td>3593.519895</td>\n",
       "    </tr>\n",
       "    <tr>\n",
       "      <th>11</th>\n",
       "      <td>2018-03-01</td>\n",
       "      <td>AMZN</td>\n",
       "      <td>10</td>\n",
       "      <td>1465.000000</td>\n",
       "      <td>14650.000000</td>\n",
       "    </tr>\n",
       "    <tr>\n",
       "      <th>12</th>\n",
       "      <td>2018-10-23</td>\n",
       "      <td>QCOM</td>\n",
       "      <td>53</td>\n",
       "      <td>63.570000</td>\n",
       "      <td>3369.210000</td>\n",
       "    </tr>\n",
       "  </tbody>\n",
       "</table>\n",
       "</div>"
      ],
      "text/plain": [
       "         Date Symbol  Volume        Price          Cost\n",
       "0  2014-02-06   AAPL      42    72.544289   3046.860138\n",
       "1  2014-12-09   AAPL      95   109.349998  10388.249810\n",
       "2  2015-07-28   INTC      30    28.440001    853.200030\n",
       "3  2015-09-09   AAPL      76   109.769997   8342.519772\n",
       "4  2015-10-05   AAPL      21   109.070000   2290.470000\n",
       "5  2016-01-12   GOOG      43   717.317017  30844.631731\n",
       "6  2016-03-17   GOOG      37   736.000000  27232.000000\n",
       "7  2016-08-22   INTC      64    35.119999   2247.679936\n",
       "8  2017-05-01   GOOG      68   901.450012  61298.600816\n",
       "9  2017-08-23   AMZN      34   954.200012  32442.800408\n",
       "10 2017-11-03   AAPL      21   171.119995   3593.519895\n",
       "11 2018-03-01   AMZN      10  1465.000000  14650.000000\n",
       "12 2018-10-23   QCOM      53    63.570000   3369.210000"
      ]
     },
     "execution_count": 39,
     "metadata": {},
     "output_type": "execute_result"
    }
   ],
   "source": [
    "df['Cost'] = df['Volume'] * df['Price']\n",
    "df"
   ]
  },
  {
   "cell_type": "code",
   "execution_count": 40,
   "metadata": {},
   "outputs": [
    {
     "data": {
      "text/plain": [
       "0     126\n",
       "1     285\n",
       "2      90\n",
       "3     228\n",
       "4      63\n",
       "5     129\n",
       "6     111\n",
       "7     192\n",
       "8     204\n",
       "9     102\n",
       "10     63\n",
       "11     30\n",
       "12    159\n",
       "Name: Volume, dtype: int64"
      ]
     },
     "execution_count": 40,
     "metadata": {},
     "output_type": "execute_result"
    }
   ],
   "source": [
    "df['Volume'] * 3  # Broadcasting"
   ]
  },
  {
   "cell_type": "code",
   "execution_count": 41,
   "metadata": {},
   "outputs": [
    {
     "data": {
      "text/plain": [
       "200599.74253599998"
      ]
     },
     "execution_count": 41,
     "metadata": {},
     "output_type": "execute_result"
    }
   ],
   "source": [
    "(df['Volume'] * df['Price']).sum()"
   ]
  },
  {
   "cell_type": "code",
   "execution_count": 42,
   "metadata": {},
   "outputs": [
    {
     "data": {
      "text/plain": [
       "Volume       594.000000\n",
       "Price       5472.951320\n",
       "Cost      200599.742536\n",
       "dtype: float64"
      ]
     },
     "execution_count": 42,
     "metadata": {},
     "output_type": "execute_result"
    }
   ],
   "source": [
    "df.sum()"
   ]
  },
  {
   "cell_type": "code",
   "execution_count": 43,
   "metadata": {},
   "outputs": [
    {
     "data": {
      "text/html": [
       "<div>\n",
       "<style scoped>\n",
       "    .dataframe tbody tr th:only-of-type {\n",
       "        vertical-align: middle;\n",
       "    }\n",
       "\n",
       "    .dataframe tbody tr th {\n",
       "        vertical-align: top;\n",
       "    }\n",
       "\n",
       "    .dataframe thead th {\n",
       "        text-align: right;\n",
       "    }\n",
       "</style>\n",
       "<table border=\"1\" class=\"dataframe\">\n",
       "  <thead>\n",
       "    <tr style=\"text-align: right;\">\n",
       "      <th></th>\n",
       "      <th>Volume</th>\n",
       "      <th>Price</th>\n",
       "      <th>Cost</th>\n",
       "    </tr>\n",
       "  </thead>\n",
       "  <tbody>\n",
       "    <tr>\n",
       "      <th>count</th>\n",
       "      <td>13.000000</td>\n",
       "      <td>13.000000</td>\n",
       "      <td>13.000000</td>\n",
       "    </tr>\n",
       "    <tr>\n",
       "      <th>mean</th>\n",
       "      <td>45.692308</td>\n",
       "      <td>420.996255</td>\n",
       "      <td>15430.749426</td>\n",
       "    </tr>\n",
       "    <tr>\n",
       "      <th>std</th>\n",
       "      <td>24.509810</td>\n",
       "      <td>474.167141</td>\n",
       "      <td>17898.633527</td>\n",
       "    </tr>\n",
       "    <tr>\n",
       "      <th>min</th>\n",
       "      <td>10.000000</td>\n",
       "      <td>28.440001</td>\n",
       "      <td>853.200030</td>\n",
       "    </tr>\n",
       "    <tr>\n",
       "      <th>25%</th>\n",
       "      <td>30.000000</td>\n",
       "      <td>72.544289</td>\n",
       "      <td>3046.860138</td>\n",
       "    </tr>\n",
       "    <tr>\n",
       "      <th>50%</th>\n",
       "      <td>42.000000</td>\n",
       "      <td>109.769997</td>\n",
       "      <td>8342.519772</td>\n",
       "    </tr>\n",
       "    <tr>\n",
       "      <th>75%</th>\n",
       "      <td>64.000000</td>\n",
       "      <td>736.000000</td>\n",
       "      <td>27232.000000</td>\n",
       "    </tr>\n",
       "    <tr>\n",
       "      <th>max</th>\n",
       "      <td>95.000000</td>\n",
       "      <td>1465.000000</td>\n",
       "      <td>61298.600816</td>\n",
       "    </tr>\n",
       "  </tbody>\n",
       "</table>\n",
       "</div>"
      ],
      "text/plain": [
       "          Volume        Price          Cost\n",
       "count  13.000000    13.000000     13.000000\n",
       "mean   45.692308   420.996255  15430.749426\n",
       "std    24.509810   474.167141  17898.633527\n",
       "min    10.000000    28.440001    853.200030\n",
       "25%    30.000000    72.544289   3046.860138\n",
       "50%    42.000000   109.769997   8342.519772\n",
       "75%    64.000000   736.000000  27232.000000\n",
       "max    95.000000  1465.000000  61298.600816"
      ]
     },
     "execution_count": 43,
     "metadata": {},
     "output_type": "execute_result"
    }
   ],
   "source": [
    "df.describe()"
   ]
  },
  {
   "cell_type": "code",
   "execution_count": 46,
   "metadata": {},
   "outputs": [
    {
     "data": {
      "text/plain": [
       "Symbol\n",
       "AAPL    255\n",
       "AMZN     44\n",
       "GOOG    148\n",
       "INTC     94\n",
       "QCOM     53\n",
       "Name: Volume, dtype: int64"
      ]
     },
     "execution_count": 46,
     "metadata": {},
     "output_type": "execute_result"
    }
   ],
   "source": [
    "df.groupby('Symbol')['Volume'].sum()\n",
    "# SELECT Symbol, SUM(Volume) FROM df GROUP BY Symbol"
   ]
  },
  {
   "cell_type": "code",
   "execution_count": 48,
   "metadata": {},
   "outputs": [
    {
     "data": {
      "text/plain": [
       "Symbol  Date      \n",
       "AAPL    2014-02-06    42\n",
       "        2014-12-09    95\n",
       "        2015-09-09    76\n",
       "        2015-10-05    21\n",
       "        2017-11-03    21\n",
       "AMZN    2017-08-23    34\n",
       "        2018-03-01    10\n",
       "GOOG    2016-01-12    43\n",
       "        2016-03-17    37\n",
       "        2017-05-01    68\n",
       "INTC    2015-07-28    30\n",
       "        2016-08-22    64\n",
       "QCOM    2018-10-23    53\n",
       "Name: Volume, dtype: int64"
      ]
     },
     "execution_count": 48,
     "metadata": {},
     "output_type": "execute_result"
    }
   ],
   "source": [
    "df.groupby(['Symbol', 'Date'])['Volume'].sum()"
   ]
  },
  {
   "cell_type": "code",
   "execution_count": 49,
   "metadata": {},
   "outputs": [],
   "source": [
    "%matplotlib inline"
   ]
  },
  {
   "cell_type": "code",
   "execution_count": 51,
   "metadata": {},
   "outputs": [
    {
     "data": {
      "image/png": "[encoded data removed]",
      "text/plain": [
       "<Figure size 432x288 with 1 Axes>"
      ]
     },
     "metadata": {
      "needs_background": "light"
     },
     "output_type": "display_data"
    }
   ],
   "source": [
    "df['Cost'].plot.bar();"
   ]
  },
  {
   "cell_type": "code",
   "execution_count": 53,
   "metadata": {},
   "outputs": [
    {
     "data": {
      "text/plain": [
       "RangeIndex(start=0, stop=13, step=1)"
      ]
     },
     "execution_count": 53,
     "metadata": {},
     "output_type": "execute_result"
    }
   ],
   "source": [
    "df.index"
   ]
  },
  {
   "cell_type": "code",
   "execution_count": 54,
   "metadata": {},
   "outputs": [
    {
     "data": {
      "text/plain": [
       "DatetimeIndex(['2014-02-06', '2014-12-09', '2015-07-28', '2015-09-09',\n",
       "               '2015-10-05', '2016-01-12', '2016-03-17', '2016-08-22',\n",
       "               '2017-05-01', '2017-08-23', '2017-11-03', '2018-03-01',\n",
       "               '2018-10-23'],\n",
       "              dtype='datetime64[ns]', name='Date', freq=None)"
      ]
     },
     "execution_count": 54,
     "metadata": {},
     "output_type": "execute_result"
    }
   ],
   "source": [
    "df.index = df['Date']\n",
    "df.index"
   ]
  },
  {
   "cell_type": "code",
   "execution_count": 56,
   "metadata": {},
   "outputs": [
    {
     "data": {
      "image/png": "[encoded data removed]",
      "text/plain": [
       "<Figure size 432x288 with 1 Axes>"
      ]
     },
     "metadata": {
      "needs_background": "light"
     },
     "output_type": "display_data"
    }
   ],
   "source": [
    "df['Cost'].plot.bar(rot=45);"
   ]
  },
  {
   "cell_type": "code",
   "execution_count": 58,
   "metadata": {},
   "outputs": [
    {
     "data": {
      "text/plain": [
       "Date      2015-09-09 00:00:00\n",
       "Symbol                   AAPL\n",
       "Volume                     76\n",
       "Price                  109.77\n",
       "Cost                  8342.52\n",
       "Name: 2015-09-09 00:00:00, dtype: object"
      ]
     },
     "execution_count": 58,
     "metadata": {},
     "output_type": "execute_result"
    }
   ],
   "source": [
    "df.iloc[3]"
   ]
  },
  {
   "cell_type": "code",
   "execution_count": 60,
   "metadata": {},
   "outputs": [
    {
     "data": {
      "text/plain": [
       "Date      2018-10-23 00:00:00\n",
       "Symbol                   QCOM\n",
       "Volume                     53\n",
       "Price                   63.57\n",
       "Cost                  3369.21\n",
       "Name: 2018-10-23 00:00:00, dtype: object"
      ]
     },
     "execution_count": 60,
     "metadata": {},
     "output_type": "execute_result"
    }
   ],
   "source": [
    "df.loc['2018-10-23']"
   ]
  },
  {
   "cell_type": "code",
   "execution_count": 62,
   "metadata": {},
   "outputs": [
    {
     "data": {
      "text/html": [
       "<div>\n",
       "<style scoped>\n",
       "    .dataframe tbody tr th:only-of-type {\n",
       "        vertical-align: middle;\n",
       "    }\n",
       "\n",
       "    .dataframe tbody tr th {\n",
       "        vertical-align: top;\n",
       "    }\n",
       "\n",
       "    .dataframe thead th {\n",
       "        text-align: right;\n",
       "    }\n",
       "</style>\n",
       "<table border=\"1\" class=\"dataframe\">\n",
       "  <thead>\n",
       "    <tr style=\"text-align: right;\">\n",
       "      <th></th>\n",
       "      <th>Date</th>\n",
       "      <th>Symbol</th>\n",
       "      <th>Volume</th>\n",
       "      <th>Price</th>\n",
       "      <th>Cost</th>\n",
       "    </tr>\n",
       "    <tr>\n",
       "      <th>Date</th>\n",
       "      <th></th>\n",
       "      <th></th>\n",
       "      <th></th>\n",
       "      <th></th>\n",
       "      <th></th>\n",
       "    </tr>\n",
       "  </thead>\n",
       "  <tbody>\n",
       "    <tr>\n",
       "      <th>2018-03-01</th>\n",
       "      <td>2018-03-01</td>\n",
       "      <td>AMZN</td>\n",
       "      <td>10</td>\n",
       "      <td>1465.00</td>\n",
       "      <td>14650.00</td>\n",
       "    </tr>\n",
       "    <tr>\n",
       "      <th>2018-10-23</th>\n",
       "      <td>2018-10-23</td>\n",
       "      <td>QCOM</td>\n",
       "      <td>53</td>\n",
       "      <td>63.57</td>\n",
       "      <td>3369.21</td>\n",
       "    </tr>\n",
       "  </tbody>\n",
       "</table>\n",
       "</div>"
      ],
      "text/plain": [
       "                 Date Symbol  Volume    Price      Cost\n",
       "Date                                                   \n",
       "2018-03-01 2018-03-01   AMZN      10  1465.00  14650.00\n",
       "2018-10-23 2018-10-23   QCOM      53    63.57   3369.21"
      ]
     },
     "execution_count": 62,
     "metadata": {},
     "output_type": "execute_result"
    }
   ],
   "source": [
    "df.loc['2018']"
   ]
  },
  {
   "cell_type": "code",
   "execution_count": null,
   "metadata": {},
   "outputs": [],
   "source": []
  }
 ],
 "metadata": {
  "kernelspec": {
   "display_name": "Python 3",
   "language": "python",
   "name": "python3"
  },
  "language_info": {
   "codemirror_mode": {
    "name": "ipython",
    "version": 3
   },
   "file_extension": ".py",
   "mimetype": "text/x-python",
   "name": "python",
   "nbconvert_exporter": "python",
   "pygments_lexer": "ipython3",
   "version": "3.8.1"
  }
 },
 "nbformat": 4,
 "nbformat_minor": 4
}
